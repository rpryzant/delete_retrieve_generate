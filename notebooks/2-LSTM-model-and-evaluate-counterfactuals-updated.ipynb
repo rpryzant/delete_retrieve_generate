{
 "cells": [
  {
   "cell_type": "code",
   "execution_count": 1,
   "metadata": {},
   "outputs": [],
   "source": [
    "import os\n",
    "import csv\n",
    "\n",
    "import pandas as pd\n",
    "import numpy as np\n",
    "from sklearn.metrics import confusion_matrix\n",
    "from sklearn.neighbors import NearestNeighbors, LocalOutlierFactor\n",
    "from nltk.translate.bleu_score import sentence_bleu, SmoothingFunction\n",
    "\n",
    "from tensorflow import keras\n",
    "import tensorflow as tf\n",
    "import random as python_random\n",
    "from tensorflow.keras import layers\n",
    "from tensorflow.keras.preprocessing import sequence\n",
    "from tensorflow.keras.preprocessing.text import Tokenizer\n",
    "from tensorflow.keras.callbacks import EarlyStopping\n",
    "from tensorflow.keras import backend as K\n",
    "\n",
    "import matplotlib.pyplot as plt\n",
    "import editdistance"
   ]
  },
  {
   "cell_type": "code",
   "execution_count": 2,
   "metadata": {},
   "outputs": [],
   "source": [
    "os.environ['TF_DETERMINISTIC_OPS'] = '1'\n",
    "config = tf.compat.v1.ConfigProto()\n",
    "config.gpu_options.allow_growth = True\n",
    "session = tf.compat.v1.Session(config=config)\n"
   ]
  },
  {
   "cell_type": "code",
   "execution_count": 3,
   "metadata": {},
   "outputs": [
    {
     "name": "stdout",
     "output_type": "stream",
     "text": [
      "Num GPUs Available:  1\n"
     ]
    }
   ],
   "source": [
    "print(\"Num GPUs Available: \", len(tf.config.list_physical_devices('GPU')))"
   ]
  },
  {
   "cell_type": "markdown",
   "metadata": {},
   "source": [
    "## 1. Load data"
   ]
  },
  {
   "cell_type": "code",
   "execution_count": 4,
   "metadata": {},
   "outputs": [],
   "source": [
    "# Define MIMIC data path\n",
    "data_path = '../full_experiments1/mimic_data_cardiovascular1/' # mimic_data_sepsis or mimic_data_cardiovascular or mimic_data_ards\n",
    "\n",
    "# Load training data\n",
    "train_pos = pd.read_csv(data_path+'train_pos.txt', header=None)\n",
    "train_neg = pd.read_csv(data_path+'train_neg.txt', header=None)\n",
    "\n",
    "# Add target class label\n",
    "train_pos['survival'] = [1 for i in range(train_pos.shape[0])]\n",
    "train_neg['survival'] = [0 for i in range(train_neg.shape[0])]"
   ]
  },
  {
   "cell_type": "code",
   "execution_count": 6,
   "metadata": {},
   "outputs": [],
   "source": [
    "# Concat into one data frame; and reorder it\n",
    "train = pd.concat([train_pos, train_neg]).reset_index()\n",
    "train_reordered = train.sample(frac=1, random_state=3)"
   ]
  },
  {
   "cell_type": "code",
   "execution_count": 7,
   "metadata": {},
   "outputs": [],
   "source": [
    "X_train, y_train = train_reordered[0], train_reordered['survival']\n",
    "\n",
    "# X_train.head()"
   ]
  },
  {
   "cell_type": "code",
   "execution_count": 8,
   "metadata": {},
   "outputs": [],
   "source": [
    "# Load validation data\n",
    "validation_pos = pd.read_csv(data_path+'validation_pos.txt', header=None)\n",
    "validation_neg = pd.read_csv(data_path+'validation_neg.txt', header=None)\n",
    "\n",
    "# Add target class\n",
    "validation_pos['survival'] = [1 for i in range(validation_pos.shape[0])]\n",
    "validation_neg['survival'] = [0 for i in range(validation_neg.shape[0])]"
   ]
  },
  {
   "cell_type": "code",
   "execution_count": 9,
   "metadata": {},
   "outputs": [],
   "source": [
    "validation = pd.concat([validation_pos, validation_neg]).reset_index()\n",
    "validation_reordered = validation.sample(frac=1, random_state=3)\n",
    "\n",
    "# validation_reordered.head()"
   ]
  },
  {
   "cell_type": "code",
   "execution_count": 10,
   "metadata": {},
   "outputs": [],
   "source": [
    "X_val, y_val = validation_reordered[0], validation_reordered['survival']\n",
    "\n",
    "# X_val.head()"
   ]
  },
  {
   "cell_type": "markdown",
   "metadata": {},
   "source": [
    "### Data preprocessing\n",
    "\n",
    "#### 1.1 Conver all the events into sequence (token) ids"
   ]
  },
  {
   "cell_type": "code",
   "execution_count": 11,
   "metadata": {},
   "outputs": [],
   "source": [
    "# Set the vocab size and max sequence lenght\n",
    "vocab_size = 1400 #(max vocab id~=1300 in the training data; ~670 for sepsis)\n",
    "max_seq_length = 104 #(the maximum sequence length in training/testing data)"
   ]
  },
  {
   "cell_type": "code",
   "execution_count": 12,
   "metadata": {},
   "outputs": [],
   "source": [
    "# Use a text tokenizer to convert events\n",
    "tokenizer = Tokenizer(num_words = vocab_size)\n",
    "tokenizer.fit_on_texts(X_train)\n",
    "\n",
    "X_train_sequences = tokenizer.texts_to_sequences(X_train)\n",
    "X_val_sequences = tokenizer.texts_to_sequences(X_val)"
   ]
  },
  {
   "cell_type": "code",
   "execution_count": null,
   "metadata": {},
   "outputs": [],
   "source": [
    "# # Before texts_to_sequences()\n",
    "# print(f'Before texts_to_sequences():\\n {X_train.iloc[1]}\\n')\n",
    "\n",
    "# # After texts_to_sequences()\n",
    "# print(f'After texts_to_sequences():\\n {X_train_sequences[1]}')"
   ]
  },
  {
   "cell_type": "markdown",
   "metadata": {},
   "source": [
    "#### 1.2 Padding converted sequences"
   ]
  },
  {
   "cell_type": "code",
   "execution_count": 13,
   "metadata": {},
   "outputs": [],
   "source": [
    "# Pad X_train_sequences and X_val_sequences\n",
    "X_train_padded = sequence.pad_sequences(X_train_sequences, maxlen=max_seq_length, padding='post')\n",
    "X_val_padded = sequence.pad_sequences(X_val_sequences, maxlen=max_seq_length, padding='post')"
   ]
  },
  {
   "cell_type": "code",
   "execution_count": 14,
   "metadata": {},
   "outputs": [
    {
     "data": {
      "text/plain": [
       "(7659, 104)"
      ]
     },
     "execution_count": 14,
     "metadata": {},
     "output_type": "execute_result"
    }
   ],
   "source": [
    "X_train_padded.shape"
   ]
  },
  {
   "cell_type": "code",
   "execution_count": 15,
   "metadata": {},
   "outputs": [
    {
     "data": {
      "text/plain": [
       "(400, 104)"
      ]
     },
     "execution_count": 15,
     "metadata": {},
     "output_type": "execute_result"
    }
   ],
   "source": [
    "X_val_padded.shape"
   ]
  },
  {
   "cell_type": "code",
   "execution_count": 16,
   "metadata": {},
   "outputs": [
    {
     "data": {
      "text/plain": [
       "array([  8,  43,  10,  17,   3,   2,  53, 147,  67, 154,  42, 228,   9,\n",
       "         0,   0,   0,   0,   0,   0,   0,   0,   0,   0,   0,   0,   0,\n",
       "         0,   0,   0,   0,   0,   0,   0,   0,   0,   0,   0,   0,   0,\n",
       "         0,   0,   0,   0,   0,   0,   0,   0,   0,   0,   0,   0,   0,\n",
       "         0,   0,   0,   0,   0,   0,   0,   0,   0,   0,   0,   0,   0,\n",
       "         0,   0,   0,   0,   0,   0,   0,   0,   0,   0,   0,   0,   0,\n",
       "         0,   0,   0,   0,   0,   0,   0,   0,   0,   0,   0,   0,   0,\n",
       "         0,   0,   0,   0,   0,   0,   0,   0,   0,   0,   0,   0,   0],\n",
       "      dtype=int32)"
      ]
     },
     "execution_count": 16,
     "metadata": {},
     "output_type": "execute_result"
    }
   ],
   "source": [
    "X_val_padded[0]"
   ]
  },
  {
   "cell_type": "markdown",
   "metadata": {},
   "source": [
    "## 2. Train the main LSTM model for survival prediction"
   ]
  },
  {
   "cell_type": "code",
   "execution_count": 17,
   "metadata": {},
   "outputs": [],
   "source": [
    "# For plotting the accuracy/loss of keras models\n",
    "def plot_graphs(history, string):\n",
    "    plt.plot(history.history[string])\n",
    "    plt.plot(history.history['val_'+string])\n",
    "    plt.xlabel(\"Epochs\")\n",
    "    plt.ylabel(string)\n",
    "    plt.legend([string, 'val_'+string])\n",
    "    plt.show()"
   ]
  },
  {
   "cell_type": "code",
   "execution_count": 18,
   "metadata": {},
   "outputs": [],
   "source": [
    "# Fix the random seeds to get consistent models\n",
    "## ref: https://keras.io/getting_started/faq/#how-can-i-obtain-reproducible-results-using-keras-during-development\n",
    "seed_value = 3\n",
    "\n",
    "os.environ['PYTHONHASHSEED']=str(seed_value)\n",
    "\n",
    "# The below is necessary for starting Numpy generated random numbers in a well-defined initial state.\n",
    "np.random.seed(seed_value)\n",
    "\n",
    "# The below is necessary for starting core Python generated random numbers in a well-defined state.\n",
    "python_random.seed(seed_value)\n",
    "\n",
    "# The below set_seed() will make random number generation\n",
    "tf.random.set_seed(seed_value)\n",
    "\n",
    "# configure a new global `tensorflow` session\n",
    "session_conf = tf.compat.v1.ConfigProto(intra_op_parallelism_threads=1, inter_op_parallelism_threads=1)\n",
    "sess = tf.compat.v1.Session(graph=tf.compat.v1.get_default_graph(), config=session_conf)\n",
    "tf.compat.v1.keras.backend.set_session(sess)\n",
    "\n",
    "def reset_seeds(seed_value=3):\n",
    "    os.environ['PYTHONHASHSEED']=str(seed_value)\n",
    "    np.random.seed(seed_value) \n",
    "    python_random.seed(seed_value)\n",
    "    tf.random.set_seed(seed_value)\n",
    "\n",
    "reset_seeds() "
   ]
  },
  {
   "cell_type": "code",
   "execution_count": 19,
   "metadata": {},
   "outputs": [],
   "source": [
    "# Define the early stopping criteria\n",
    "early_stopping = EarlyStopping(monitor='val_accuracy', patience=3, restore_best_weights=True)"
   ]
  },
  {
   "cell_type": "code",
   "execution_count": 20,
   "metadata": {},
   "outputs": [
    {
     "name": "stdout",
     "output_type": "stream",
     "text": [
      "Model: \"model\"\n",
      "_________________________________________________________________\n",
      "Layer (type)                 Output Shape              Param #   \n",
      "=================================================================\n",
      "input_1 (InputLayer)         [(None, None)]            0         \n",
      "_________________________________________________________________\n",
      "embedding (Embedding)        (None, None, 128)         179200    \n",
      "_________________________________________________________________\n",
      "bidirectional (Bidirectional (None, None, 128)         98816     \n",
      "_________________________________________________________________\n",
      "bidirectional_1 (Bidirection (None, 128)               98816     \n",
      "_________________________________________________________________\n",
      "dense (Dense)                (None, 1)                 129       \n",
      "=================================================================\n",
      "Total params: 376,961\n",
      "Trainable params: 376,961\n",
      "Non-trainable params: 0\n",
      "_________________________________________________________________\n"
     ]
    }
   ],
   "source": [
    "# Define the model structure\n",
    "# Input for variable-length sequences of integers\n",
    "inputs = keras.Input(shape=(None,), dtype=\"int32\")\n",
    "\n",
    "# Embed each integer in a 128-dimensional vector\n",
    "x = layers.Embedding(vocab_size, 128)(inputs)\n",
    "\n",
    "# Add 2 bidirectional LSTMs\n",
    "x = layers.Bidirectional(layers.LSTM(64, return_sequences=True))(x)\n",
    "x = layers.Bidirectional(layers.LSTM(64))(x)\n",
    "\n",
    "# Add a classifier\n",
    "outputs = layers.Dense(1, activation=\"sigmoid\")(x)\n",
    "main_model = keras.Model(inputs, outputs)\n",
    "\n",
    "main_model.summary()"
   ]
  },
  {
   "cell_type": "code",
   "execution_count": 21,
   "metadata": {},
   "outputs": [
    {
     "name": "stdout",
     "output_type": "stream",
     "text": [
      "Epoch 1/30\n",
      "120/120 [==============================] - 10s 30ms/step - loss: 0.5751 - accuracy: 0.7119 - val_loss: 0.6355 - val_accuracy: 0.5800\n",
      "Epoch 2/30\n",
      "120/120 [==============================] - 3s 23ms/step - loss: 0.4939 - accuracy: 0.7521 - val_loss: 0.5893 - val_accuracy: 0.6850\n",
      "Epoch 3/30\n",
      "120/120 [==============================] - 3s 23ms/step - loss: 0.4745 - accuracy: 0.7702 - val_loss: 0.6962 - val_accuracy: 0.6450\n",
      "Epoch 4/30\n",
      "120/120 [==============================] - 3s 24ms/step - loss: 0.4506 - accuracy: 0.7881 - val_loss: 0.6315 - val_accuracy: 0.6800\n",
      "Epoch 5/30\n",
      "120/120 [==============================] - 3s 23ms/step - loss: 0.4398 - accuracy: 0.7962 - val_loss: 0.5963 - val_accuracy: 0.7050\n",
      "Epoch 6/30\n",
      "120/120 [==============================] - 3s 23ms/step - loss: 0.4265 - accuracy: 0.8049 - val_loss: 0.7031 - val_accuracy: 0.6600\n",
      "Epoch 7/30\n",
      "120/120 [==============================] - 3s 23ms/step - loss: 0.4353 - accuracy: 0.7929 - val_loss: 0.6851 - val_accuracy: 0.6925\n",
      "Epoch 8/30\n",
      "120/120 [==============================] - 3s 23ms/step - loss: 0.4092 - accuracy: 0.8184 - val_loss: 0.6091 - val_accuracy: 0.6850\n"
     ]
    }
   ],
   "source": [
    "main_model.compile(\"adam\", \"binary_crossentropy\", metrics=[\"accuracy\"])\n",
    "\n",
    "reset_seeds()\n",
    "model_history = main_model.fit(\n",
    "    X_train_padded, \n",
    "    y_train, \n",
    "    epochs=30, \n",
    "    batch_size=64, \n",
    "    validation_data=(X_val_padded, y_val), \n",
    "    callbacks=[early_stopping])"
   ]
  },
  {
   "cell_type": "code",
   "execution_count": 22,
   "metadata": {},
   "outputs": [
    {
     "data": {
      "image/png": "[encoded data removed]",
      "text/plain": [
       "<Figure size 432x288 with 1 Axes>"
      ]
     },
     "metadata": {
      "needs_background": "light"
     },
     "output_type": "display_data"
    },
    {
     "data": {
      "image/png": "[encoded data removed]",
      "text/plain": [
       "<Figure size 432x288 with 1 Axes>"
      ]
     },
     "metadata": {
      "needs_background": "light"
     },
     "output_type": "display_data"
    }
   ],
   "source": [
    "# Visualize the training/validation accuracy and loss\n",
    "plot_graphs(model_history, \"accuracy\")\n",
    "plot_graphs(model_history, \"loss\")"
   ]
  },
  {
   "cell_type": "code",
   "execution_count": 23,
   "metadata": {},
   "outputs": [],
   "source": [
    "# Get the predicted target class: if pred > 0.5, then y_pred = 1; else, y_pred = 0\n",
    "y_pred = np.array([1 if pred > 0.5 else 0 for pred in main_model.predict(X_val_padded)])"
   ]
  },
  {
   "cell_type": "code",
   "execution_count": 24,
   "metadata": {},
   "outputs": [
    {
     "data": {
      "text/plain": [
       "0.705"
      ]
     },
     "execution_count": 24,
     "metadata": {},
     "output_type": "execute_result"
    }
   ],
   "source": [
    "# Calculate the validation accuracy\n",
    "validation_acc = sum(y_pred == y_val)/len(y_val)\n",
    "validation_acc"
   ]
  },
  {
   "cell_type": "code",
   "execution_count": 25,
   "metadata": {},
   "outputs": [
    {
     "data": {
      "text/html": [
       "<div>\n",
       "<style scoped>\n",
       "    .dataframe tbody tr th:only-of-type {\n",
       "        vertical-align: middle;\n",
       "    }\n",
       "\n",
       "    .dataframe tbody tr th {\n",
       "        vertical-align: top;\n",
       "    }\n",
       "\n",
       "    .dataframe thead th {\n",
       "        text-align: right;\n",
       "    }\n",
       "</style>\n",
       "<table border=\"1\" class=\"dataframe\">\n",
       "  <thead>\n",
       "    <tr style=\"text-align: right;\">\n",
       "      <th></th>\n",
       "      <th>Pred:pos</th>\n",
       "      <th>Pred:neg</th>\n",
       "    </tr>\n",
       "  </thead>\n",
       "  <tbody>\n",
       "    <tr>\n",
       "      <th>True:pos</th>\n",
       "      <td>176</td>\n",
       "      <td>24</td>\n",
       "    </tr>\n",
       "    <tr>\n",
       "      <th>True:neg</th>\n",
       "      <td>94</td>\n",
       "      <td>106</td>\n",
       "    </tr>\n",
       "  </tbody>\n",
       "</table>\n",
       "</div>"
      ],
      "text/plain": [
       "          Pred:pos  Pred:neg\n",
       "True:pos       176        24\n",
       "True:neg        94       106"
      ]
     },
     "execution_count": 25,
     "metadata": {},
     "output_type": "execute_result"
    }
   ],
   "source": [
    "# Get the confusion matrix\n",
    "confusion_matrix_df = pd.DataFrame(\n",
    "        confusion_matrix(y_true=y_val, y_pred=y_pred, labels=[1, 0]),\n",
    "        index=['True:pos', 'True:neg'], \n",
    "        columns=['Pred:pos', 'Pred:neg']\n",
    "    )\n",
    "confusion_matrix_df"
   ]
  },
  {
   "cell_type": "code",
   "execution_count": 26,
   "metadata": {},
   "outputs": [
    {
     "data": {
      "text/plain": [
       "1    270\n",
       "0    130\n",
       "dtype: int64"
      ]
     },
     "execution_count": 26,
     "metadata": {},
     "output_type": "execute_result"
    }
   ],
   "source": [
    "# Counts of positive and negative predictions\n",
    "pd.value_counts(y_pred)"
   ]
  },
  {
   "cell_type": "markdown",
   "metadata": {},
   "source": [
    "### 2.1 Save the trained classifier for evaluation"
   ]
  },
  {
   "cell_type": "code",
   "execution_count": null,
   "metadata": {},
   "outputs": [],
   "source": [
    "# # Create a saved model folder `main_model`.\n",
    "# main_model.save('../full_experiments1/experiment_cardiovascular1/main_model')"
   ]
  },
  {
   "cell_type": "code",
   "execution_count": null,
   "metadata": {},
   "outputs": [],
   "source": [
    "# main_model = keras.models.load_model('../full_experiments1/experiment_cardiovascular1/main_model')"
   ]
  },
  {
   "cell_type": "markdown",
   "metadata": {},
   "source": [
    "## 3. Get the negative predictions from LSTM, for counterfactual explanations"
   ]
  },
  {
   "cell_type": "code",
   "execution_count": 27,
   "metadata": {},
   "outputs": [
    {
     "data": {
      "text/plain": [
       "array([[ 8, 43, 10, ...,  0,  0,  0],\n",
       "       [ 8, 10, 37, ...,  0,  0,  0],\n",
       "       [ 8, 23,  6, ...,  0,  0,  0],\n",
       "       ...,\n",
       "       [ 8, 15,  2, ...,  0,  0,  0],\n",
       "       [ 8, 33, 55, ...,  0,  0,  0],\n",
       "       [ 8, 33, 11, ...,  0,  0,  0]], dtype=int32)"
      ]
     },
     "execution_count": 27,
     "metadata": {},
     "output_type": "execute_result"
    }
   ],
   "source": [
    "# Get these instances of negative predictions\n",
    "X_pred_negative = X_val_padded[y_pred == 0]\n",
    "\n",
    "X_pred_negative"
   ]
  },
  {
   "cell_type": "code",
   "execution_count": 28,
   "metadata": {},
   "outputs": [
    {
     "data": {
      "text/plain": [
       "(130, 104)"
      ]
     },
     "execution_count": 28,
     "metadata": {},
     "output_type": "execute_result"
    }
   ],
   "source": [
    "X_pred_negative.shape"
   ]
  },
  {
   "cell_type": "code",
   "execution_count": 30,
   "metadata": {},
   "outputs": [],
   "source": [
    "# Use the index of negative predictions to find the original row with the diagnosis codes\n",
    "# np.where(y_pred == 0)\n",
    "pred_neg_data = validation_reordered.iloc[np.where(y_pred == 0)]\n",
    "\n",
    "# pred_neg_data.head()"
   ]
  },
  {
   "cell_type": "code",
   "execution_count": 31,
   "metadata": {},
   "outputs": [],
   "source": [
    "# Convert negatively predicted instances back to medical event form\n",
    "original_event_sequences = tokenizer.sequences_to_texts(X_pred_negative)\n",
    "\n",
    "# original_event_sequences[:5]"
   ]
  },
  {
   "cell_type": "code",
   "execution_count": 32,
   "metadata": {},
   "outputs": [
    {
     "data": {
      "text/plain": [
       "(270, 3)"
      ]
     },
     "execution_count": 32,
     "metadata": {},
     "output_type": "execute_result"
    }
   ],
   "source": [
    "pred_pos_data = validation_reordered.iloc[np.where(y_pred == 1)]\n",
    "\n",
    "pred_pos_data.shape"
   ]
  },
  {
   "cell_type": "markdown",
   "metadata": {},
   "source": [
    "### Export as the desired input format of the DRG framework"
   ]
  },
  {
   "cell_type": "code",
   "execution_count": 33,
   "metadata": {},
   "outputs": [],
   "source": [
    "out_datapath = data_path"
   ]
  },
  {
   "cell_type": "code",
   "execution_count": null,
   "metadata": {},
   "outputs": [],
   "source": [
    "pd.DataFrame(pred_neg_data[0]).to_csv(path_or_buf=out_datapath+'test_neg.txt', index=False, header=False, sep=' ', quoting=csv.QUOTE_NONE, escapechar=' ')"
   ]
  },
  {
   "cell_type": "code",
   "execution_count": null,
   "metadata": {},
   "outputs": [],
   "source": [
    "pd.DataFrame(pred_neg_data['diag']).to_csv(path_or_buf=out_datapath+'test_neg_diag.txt', index=False, header=False, sep=' ', quoting=csv.QUOTE_NONE, escapechar=' ')\n"
   ]
  },
  {
   "cell_type": "markdown",
   "metadata": {},
   "source": [
    "Here, we need to use the inference script from the DRG framework (instructions in the README file) to modify those 110 negative predictions into positive instances. After that, we import the transformed results as below."
   ]
  },
  {
   "cell_type": "markdown",
   "metadata": {},
   "source": [
    "### 3.1 DeleteOnly model results"
   ]
  },
  {
   "cell_type": "code",
   "execution_count": 34,
   "metadata": {},
   "outputs": [],
   "source": [
    "# Load the transformed data\n",
    "results_path = '../full_experiments1/experiment_cardiovascular1/working_dir_cardiovascular1_delete1/'\n",
    "trans_results_delete = pd.read_csv(results_path+'preds', header=None)"
   ]
  },
  {
   "cell_type": "code",
   "execution_count": 35,
   "metadata": {},
   "outputs": [],
   "source": [
    "X_test_sequences = tokenizer.texts_to_sequences(trans_results_delete[0])\n",
    "\n",
    "X_test_padded = sequence.pad_sequences(X_test_sequences, maxlen=max_seq_length, padding='post')"
   ]
  },
  {
   "cell_type": "markdown",
   "metadata": {},
   "source": [
    "### 3.2 DeleteAndRetrieve model results"
   ]
  },
  {
   "cell_type": "code",
   "execution_count": 36,
   "metadata": {},
   "outputs": [],
   "source": [
    "# Load the transformed data\n",
    "delete_generate_results_path = '../full_experiments1/experiment_cardiovascular1/working_dir_cardiovascular1_delete_ret1/'\n",
    "delete_generate_results = pd.read_csv(delete_generate_results_path+'preds', header=None)"
   ]
  },
  {
   "cell_type": "code",
   "execution_count": 37,
   "metadata": {},
   "outputs": [],
   "source": [
    "X_test_sequences2 = tokenizer.texts_to_sequences(delete_generate_results[0])\n",
    "\n",
    "X_test_padded2 = sequence.pad_sequences(X_test_sequences2, maxlen=max_seq_length, padding='post')"
   ]
  },
  {
   "cell_type": "markdown",
   "metadata": {},
   "source": [
    "### 3.3 Use 1NN baseline method to modify the negatively predicted instances"
   ]
  },
  {
   "cell_type": "code",
   "execution_count": 38,
   "metadata": {},
   "outputs": [
    {
     "name": "stderr",
     "output_type": "stream",
     "text": [
      "/home/dsv/zhwa9764/miniconda3/envs/py37-cuda11/lib/python3.7/site-packages/sklearn/utils/validation.py:72: FutureWarning: Pass n_neighbors=1 as keyword args. From version 1.0 (renaming of 0.25) passing these as positional arguments will result in an error\n",
      "  \"will result in an error\", FutureWarning)\n"
     ]
    },
    {
     "data": {
      "text/plain": [
       "NearestNeighbors(metric='hamming', n_neighbors=1)"
      ]
     },
     "execution_count": 38,
     "metadata": {},
     "output_type": "execute_result"
    }
   ],
   "source": [
    "# Fit an unsupervised 1NN with all the positive seuquences, using 'hamming' distance\n",
    "nn_model = NearestNeighbors(1, metric='hamming')\n",
    "\n",
    "target_label = 1 \n",
    "X_target_label = X_train_padded[y_train == target_label] # training using the true labels\n",
    "\n",
    "nn_model.fit(X_target_label)"
   ]
  },
  {
   "cell_type": "code",
   "execution_count": 39,
   "metadata": {},
   "outputs": [
    {
     "data": {
      "text/plain": [
       "array([ 8, 37, 10, 66, 33,  6, 37, 10,  6, 37, 42, 87,  9,  0,  0,  0,  0,\n",
       "        0,  0,  0,  0,  0,  0,  0,  0,  0,  0,  0,  0,  0,  0,  0,  0,  0,\n",
       "        0,  0,  0,  0,  0,  0,  0,  0,  0,  0,  0,  0,  0,  0,  0,  0,  0,\n",
       "        0,  0,  0,  0,  0,  0,  0,  0,  0,  0,  0,  0,  0,  0,  0,  0,  0,\n",
       "        0,  0,  0,  0,  0,  0,  0,  0,  0,  0,  0,  0,  0,  0,  0,  0,  0,\n",
       "        0,  0,  0,  0,  0,  0,  0,  0,  0,  0,  0,  0,  0,  0,  0,  0,  0,\n",
       "        0,  0], dtype=int32)"
      ]
     },
     "execution_count": 39,
     "metadata": {},
     "output_type": "execute_result"
    }
   ],
   "source": [
    "# Find the closest neighbor (positive sequence) with the minimum 'hamming' distance, take it as a counterfactual\n",
    "closest = nn_model.kneighbors(X_pred_negative, return_distance=False)\n",
    "trans_results_nn = X_target_label[closest[:, 0]]\n",
    "\n",
    "trans_results_nn[0]"
   ]
  },
  {
   "cell_type": "code",
   "execution_count": 40,
   "metadata": {},
   "outputs": [],
   "source": [
    "# Rename 'trans_results_nn' to 'X_test_padded3' for result comparison\n",
    "X_test_padded3 = trans_results_nn"
   ]
  },
  {
   "cell_type": "markdown",
   "metadata": {},
   "source": [
    "### 3.4 Convert transformed results to event sequence format"
   ]
  },
  {
   "cell_type": "code",
   "execution_count": 41,
   "metadata": {},
   "outputs": [],
   "source": [
    "# Convert transformed sequences back to the form of original event sequences\n",
    "trans_event_sequences1 = tokenizer.sequences_to_texts(X_test_padded)\n",
    "trans_event_sequences2 = tokenizer.sequences_to_texts(X_test_padded2)\n",
    "trans_event_sequences3 = tokenizer.sequences_to_texts(X_test_padded3)"
   ]
  },
  {
   "cell_type": "markdown",
   "metadata": {},
   "source": [
    "## 4. Results comparison"
   ]
  },
  {
   "cell_type": "markdown",
   "metadata": {},
   "source": [
    "### 4.1 Comparison between fraction of valid CFs (i.e. successfully generated counterfactuals)"
   ]
  },
  {
   "cell_type": "code",
   "execution_count": 42,
   "metadata": {},
   "outputs": [
    {
     "data": {
      "text/plain": [
       "130"
      ]
     },
     "execution_count": 42,
     "metadata": {},
     "output_type": "execute_result"
    }
   ],
   "source": [
    "# Get the total counts \n",
    "test_size = X_pred_negative.shape[0]\n",
    "\n",
    "test_size"
   ]
  },
  {
   "cell_type": "code",
   "execution_count": 43,
   "metadata": {
    "scrolled": false
   },
   "outputs": [
    {
     "data": {
      "text/plain": [
       "(130, 1)"
      ]
     },
     "execution_count": 43,
     "metadata": {},
     "output_type": "execute_result"
    }
   ],
   "source": [
    "main_model.predict(X_test_padded).shape"
   ]
  },
  {
   "cell_type": "code",
   "execution_count": 44,
   "metadata": {},
   "outputs": [
    {
     "name": "stdout",
     "output_type": "stream",
     "text": [
      "0.3385\n"
     ]
    }
   ],
   "source": [
    "# Fraction of valid transformed sequences, for DeleteOnly\n",
    "fraction_success = np.sum(main_model.predict(X_test_padded) > 0.5)/test_size\n",
    "print(round(fraction_success, 4))"
   ]
  },
  {
   "cell_type": "code",
   "execution_count": 45,
   "metadata": {},
   "outputs": [
    {
     "name": "stdout",
     "output_type": "stream",
     "text": [
      "0.2846\n"
     ]
    }
   ],
   "source": [
    "# For DeleteAndRetrieve\n",
    "fraction_success2 = np.sum(main_model.predict(X_test_padded2) > 0.5)/test_size\n",
    "print(round(fraction_success2, 4))"
   ]
  },
  {
   "cell_type": "code",
   "execution_count": 46,
   "metadata": {},
   "outputs": [
    {
     "name": "stdout",
     "output_type": "stream",
     "text": [
      "0.7538\n"
     ]
    }
   ],
   "source": [
    "# For 1NN modification\n",
    "fraction_success3 = np.sum(main_model.predict(X_test_padded3) > 0.5)/test_size\n",
    "print(round(fraction_success3, 4))"
   ]
  },
  {
   "cell_type": "markdown",
   "metadata": {},
   "source": [
    "### 4.2 Local outlier factor (LOF score)"
   ]
  },
  {
   "cell_type": "code",
   "execution_count": 47,
   "metadata": {},
   "outputs": [
    {
     "data": {
      "text/plain": [
       "LocalOutlierFactor(contamination=0.1, novelty=True)"
      ]
     },
     "execution_count": 47,
     "metadata": {},
     "output_type": "execute_result"
    }
   ],
   "source": [
    "# Fit the model for novelty detection (novelty=True), in order to get LOF score\n",
    "clf = LocalOutlierFactor(n_neighbors=20, novelty=True, contamination=0.1)\n",
    "# clf.fit(X_train_padded)\n",
    "clf.fit(X_target_label) # use the target class to train, instead of all\n"
   ]
  },
  {
   "cell_type": "code",
   "execution_count": 48,
   "metadata": {},
   "outputs": [],
   "source": [
    "# Get the LOF score for leave-out validation data\n",
    "y_pred_val = clf.predict(X_val_padded)\n",
    "\n",
    "n_error_val = y_pred_val[y_pred_val == -1].size"
   ]
  },
  {
   "cell_type": "code",
   "execution_count": 49,
   "metadata": {},
   "outputs": [
    {
     "data": {
      "text/plain": [
       "0.105"
      ]
     },
     "execution_count": 49,
     "metadata": {},
     "output_type": "execute_result"
    }
   ],
   "source": [
    "validation_size = X_val_padded.shape[0]\n",
    "outlier_score_val = n_error_val/validation_size\n",
    "\n",
    "outlier_score_val"
   ]
  },
  {
   "cell_type": "code",
   "execution_count": 50,
   "metadata": {},
   "outputs": [
    {
     "name": "stdout",
     "output_type": "stream",
     "text": [
      "0.0769\n"
     ]
    }
   ],
   "source": [
    "# Get the LOF score for DeleteOnly results\n",
    "y_pred_test = clf.predict(X_test_padded)\n",
    "n_error_test = y_pred_test[y_pred_test == -1].size\n",
    "\n",
    "outlier_score_test = n_error_test / test_size\n",
    "print(round(outlier_score_test, 4))"
   ]
  },
  {
   "cell_type": "code",
   "execution_count": 51,
   "metadata": {},
   "outputs": [
    {
     "name": "stdout",
     "output_type": "stream",
     "text": [
      "0.0846\n"
     ]
    }
   ],
   "source": [
    "# Get the outlier score for DeleteAndRetrieve results\n",
    "y_pred_test2 = clf.predict(X_test_padded2)\n",
    "n_error_test2 = y_pred_test2[y_pred_test2 == -1].size\n",
    "\n",
    "outlier_score_test2 = n_error_test2 / test_size\n",
    "print(round(outlier_score_test2, 4))"
   ]
  },
  {
   "cell_type": "code",
   "execution_count": 52,
   "metadata": {},
   "outputs": [
    {
     "name": "stdout",
     "output_type": "stream",
     "text": [
      "0.1\n"
     ]
    }
   ],
   "source": [
    "# Outlier score for 1NN baseline method\n",
    "y_pred_test3 = clf.predict(X_test_padded3)\n",
    "n_error_test3 = y_pred_test3[y_pred_test3 == -1].size\n",
    "\n",
    "outlier_score_test3 = n_error_test3 / test_size\n",
    "print(round(outlier_score_test3, 4))"
   ]
  },
  {
   "cell_type": "markdown",
   "metadata": {},
   "source": [
    "### 4.3 BLEU-4 score (cumulative 4-gram BLEU score) "
   ]
  },
  {
   "cell_type": "code",
   "execution_count": 53,
   "metadata": {},
   "outputs": [],
   "source": [
    "# Define smoothing function\n",
    "chencherry = SmoothingFunction()\n",
    "\n",
    "# Define a function to get pairwise BLEU scores\n",
    "def get_pairwise_bleu(original, transformed):\n",
    "    # 'weights=[0.25, 0.25, 0.25, 0.25]' means that calculate 4-gram BLEU scores cumulatively\n",
    "    results = [sentence_bleu(\n",
    "        references=[pair[0].split()], \n",
    "        hypothesis=pair[1].split(), \n",
    "        weights=[0.25, 0.25, 0.25, 0.25], \n",
    "        smoothing_function=chencherry.method1) \n",
    "        for pair in zip(original, transformed)]\n",
    "    \n",
    "    return results"
   ]
  },
  {
   "cell_type": "code",
   "execution_count": 54,
   "metadata": {},
   "outputs": [
    {
     "name": "stdout",
     "output_type": "stream",
     "text": [
      "0.1558\n"
     ]
    }
   ],
   "source": [
    "pairwise_bleu = get_pairwise_bleu(original_event_sequences, trans_event_sequences1)\n",
    "avg_bleu = sum(pairwise_bleu)/test_size\n",
    "print(round(avg_bleu, 4))"
   ]
  },
  {
   "cell_type": "code",
   "execution_count": 55,
   "metadata": {},
   "outputs": [
    {
     "name": "stdout",
     "output_type": "stream",
     "text": [
      "0.1564\n"
     ]
    }
   ],
   "source": [
    "pairwise_bleu2 = get_pairwise_bleu(original_event_sequences, trans_event_sequences2)\n",
    "avg_bleu2 = sum(pairwise_bleu2)/test_size\n",
    "print(round(avg_bleu2, 4))"
   ]
  },
  {
   "cell_type": "code",
   "execution_count": 56,
   "metadata": {
    "scrolled": false
   },
   "outputs": [
    {
     "name": "stdout",
     "output_type": "stream",
     "text": [
      "0.0597\n"
     ]
    }
   ],
   "source": [
    "pairwise_bleu3 = get_pairwise_bleu(original_event_sequences, trans_event_sequences3)\n",
    "avg_bleu3 = sum(pairwise_bleu3)/test_size\n",
    "print(round(avg_bleu3, 4))"
   ]
  },
  {
   "cell_type": "markdown",
   "metadata": {},
   "source": [
    "### 4.4 Edit distance (Levenshtein)"
   ]
  },
  {
   "cell_type": "code",
   "execution_count": 62,
   "metadata": {},
   "outputs": [],
   "source": [
    "def get_edit_distance(original, transformed):\n",
    "    edit_distance_pair = [editdistance.eval(o, t) for o, t in zip(original.tolist(), transformed.tolist())]\n",
    "    edit_score = np.mean(edit_distance_pair)\n",
    "    \n",
    "    return round(edit_score, 4)\n"
   ]
  },
  {
   "cell_type": "code",
   "execution_count": 63,
   "metadata": {},
   "outputs": [
    {
     "data": {
      "text/plain": [
       "33.7923"
      ]
     },
     "execution_count": 63,
     "metadata": {},
     "output_type": "execute_result"
    }
   ],
   "source": [
    "get_edit_distance(X_test_padded, X_pred_negative)"
   ]
  },
  {
   "cell_type": "code",
   "execution_count": 65,
   "metadata": {},
   "outputs": [
    {
     "data": {
      "text/plain": [
       "32.6308"
      ]
     },
     "execution_count": 65,
     "metadata": {},
     "output_type": "execute_result"
    }
   ],
   "source": [
    "get_edit_distance(X_test_padded2, X_pred_negative)"
   ]
  },
  {
   "cell_type": "code",
   "execution_count": 66,
   "metadata": {},
   "outputs": [
    {
     "data": {
      "text/plain": [
       "34.2308"
      ]
     },
     "execution_count": 66,
     "metadata": {},
     "output_type": "execute_result"
    }
   ],
   "source": [
    "get_edit_distance(X_test_padded3, X_pred_negative)"
   ]
  },
  {
   "cell_type": "markdown",
   "metadata": {},
   "source": [
    "### Update: Extract valid counterfactuals for qualitative evaluation"
   ]
  },
  {
   "cell_type": "code",
   "execution_count": null,
   "metadata": {},
   "outputs": [],
   "source": [
    "valid_flags = main_model.predict(X_test_padded) > 0.5\n",
    "valid_flags2 = main_model.predict(X_test_padded2) > 0.5\n",
    "valid_flags3 = main_model.predict(X_test_padded3) > 0.5"
   ]
  },
  {
   "cell_type": "code",
   "execution_count": null,
   "metadata": {},
   "outputs": [],
   "source": [
    "all_valid_idx = np.where((valid_flags == True) & (valid_flags2 == True) & (valid_flags3 == True), True, False)\n",
    "\n",
    "all_valid_idx.reshape(-1)"
   ]
  },
  {
   "cell_type": "code",
   "execution_count": null,
   "metadata": {},
   "outputs": [],
   "source": [
    "transformed_df = pd.DataFrame(original_event_sequences)\n",
    "transformed_df['all_valid'] = all_valid_idx\n",
    "transformed_df['count'] = transformed_df[0].apply(lambda x: len([event for event in x.split()]))\n",
    "\n",
    "transformed_df"
   ]
  },
  {
   "cell_type": "code",
   "execution_count": null,
   "metadata": {},
   "outputs": [],
   "source": [
    "transformed_df['delete'] = trans_event_sequences1\n",
    "transformed_df['delete_retrieve'] =trans_event_sequences2\n",
    "transformed_df['nn'] = trans_event_sequences3"
   ]
  },
  {
   "cell_type": "code",
   "execution_count": null,
   "metadata": {},
   "outputs": [],
   "source": [
    "transformed_df"
   ]
  },
  {
   "cell_type": "code",
   "execution_count": null,
   "metadata": {},
   "outputs": [],
   "source": [
    "selected_idx = np.where((transformed_df['count'] >= 10) & (transformed_df['count'] <= 30) & (transformed_df['all_valid'] == True), True, False)\n"
   ]
  },
  {
   "cell_type": "code",
   "execution_count": null,
   "metadata": {},
   "outputs": [],
   "source": [
    "selected_idx"
   ]
  },
  {
   "cell_type": "code",
   "execution_count": null,
   "metadata": {},
   "outputs": [],
   "source": [
    "valid_transformed_df = transformed_df[selected_idx.reshape(-1)]"
   ]
  },
  {
   "cell_type": "code",
   "execution_count": null,
   "metadata": {},
   "outputs": [],
   "source": [
    "valid_transformed_df"
   ]
  },
  {
   "cell_type": "code",
   "execution_count": null,
   "metadata": {},
   "outputs": [],
   "source": [
    "valid_transformed_df.index"
   ]
  },
  {
   "cell_type": "code",
   "execution_count": null,
   "metadata": {},
   "outputs": [],
   "source": [
    "valid_transformed_df.iloc[0]['nn']"
   ]
  },
  {
   "cell_type": "code",
   "execution_count": null,
   "metadata": {},
   "outputs": [],
   "source": [
    "valid_transformed_df.to_csv(path_or_buf='valid_transformations.csv', \n",
    "                            index=True, header=True, sep=',')\n"
   ]
  }
 ],
 "metadata": {
  "kernelspec": {
   "display_name": "py37-cuda11",
   "language": "python",
   "name": "py37-cuda11"
  },
  "language_info": {
   "codemirror_mode": {
    "name": "ipython",
    "version": 3
   },
   "file_extension": ".py",
   "mimetype": "text/x-python",
   "name": "python",
   "nbconvert_exporter": "python",
   "pygments_lexer": "ipython3",
   "version": "3.7.10"
  }
 },
 "nbformat": 4,
 "nbformat_minor": 4
}
